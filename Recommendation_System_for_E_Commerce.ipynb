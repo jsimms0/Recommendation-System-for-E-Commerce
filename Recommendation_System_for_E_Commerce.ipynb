{
  "cells": [
    {
      "cell_type": "code",
      "source": [
        "!git clone https://github.com/keras-team/keras-tuner\n",
        "\n",
        "!pip install keras-tuner/"
      ],
      "metadata": {
        "colab": {
          "base_uri": "https://localhost:8080/"
        },
        "id": "UVTI0ueGzIoK",
        "outputId": "55cc9ea6-10ae-4d30-8bbb-37aa79ad63b5"
      },
      "id": "UVTI0ueGzIoK",
      "execution_count": 2,
      "outputs": [
        {
          "output_type": "stream",
          "name": "stdout",
          "text": [
            "Cloning into 'keras-tuner'...\n",
            "remote: Enumerating objects: 9072, done.\u001b[K\n",
            "remote: Counting objects: 100% (579/579), done.\u001b[K\n",
            "remote: Compressing objects: 100% (218/218), done.\u001b[K\n",
            "remote: Total 9072 (delta 450), reused 407 (delta 361), pack-reused 8493\u001b[K\n",
            "Receiving objects: 100% (9072/9072), 2.13 MiB | 3.61 MiB/s, done.\n",
            "Resolving deltas: 100% (6470/6470), done.\n",
            "Processing ./keras-tuner\n",
            "  Installing build dependencies ... \u001b[?25l\u001b[?25hdone\n",
            "  Getting requirements to build wheel ... \u001b[?25l\u001b[?25hdone\n",
            "  Preparing metadata (pyproject.toml) ... \u001b[?25l\u001b[?25hdone\n",
            "Collecting keras-core (from keras-tuner==1.4.3)\n",
            "  Downloading keras_core-0.1.7-py3-none-any.whl (950 kB)\n",
            "\u001b[2K     \u001b[90m━━━━━━━━━━━━━━━━━━━━━━━━━━━━━━━━━━━━━━\u001b[0m \u001b[32m950.8/950.8 kB\u001b[0m \u001b[31m13.1 MB/s\u001b[0m eta \u001b[36m0:00:00\u001b[0m\n",
            "\u001b[?25hRequirement already satisfied: packaging in /usr/local/lib/python3.10/dist-packages (from keras-tuner==1.4.3) (23.1)\n",
            "Requirement already satisfied: requests in /usr/local/lib/python3.10/dist-packages (from keras-tuner==1.4.3) (2.31.0)\n",
            "Collecting kt-legacy (from keras-tuner==1.4.3)\n",
            "  Downloading kt_legacy-1.0.5-py3-none-any.whl (9.6 kB)\n",
            "Requirement already satisfied: absl-py in /usr/local/lib/python3.10/dist-packages (from keras-core->keras-tuner==1.4.3) (1.4.0)\n",
            "Requirement already satisfied: numpy in /usr/local/lib/python3.10/dist-packages (from keras-core->keras-tuner==1.4.3) (1.23.5)\n",
            "Requirement already satisfied: rich in /usr/local/lib/python3.10/dist-packages (from keras-core->keras-tuner==1.4.3) (13.5.2)\n",
            "Collecting namex (from keras-core->keras-tuner==1.4.3)\n",
            "  Downloading namex-0.0.7-py3-none-any.whl (5.8 kB)\n",
            "Requirement already satisfied: h5py in /usr/local/lib/python3.10/dist-packages (from keras-core->keras-tuner==1.4.3) (3.9.0)\n",
            "Requirement already satisfied: dm-tree in /usr/local/lib/python3.10/dist-packages (from keras-core->keras-tuner==1.4.3) (0.1.8)\n",
            "Requirement already satisfied: charset-normalizer<4,>=2 in /usr/local/lib/python3.10/dist-packages (from requests->keras-tuner==1.4.3) (3.2.0)\n",
            "Requirement already satisfied: idna<4,>=2.5 in /usr/local/lib/python3.10/dist-packages (from requests->keras-tuner==1.4.3) (3.4)\n",
            "Requirement already satisfied: urllib3<3,>=1.21.1 in /usr/local/lib/python3.10/dist-packages (from requests->keras-tuner==1.4.3) (2.0.4)\n",
            "Requirement already satisfied: certifi>=2017.4.17 in /usr/local/lib/python3.10/dist-packages (from requests->keras-tuner==1.4.3) (2023.7.22)\n",
            "Requirement already satisfied: markdown-it-py>=2.2.0 in /usr/local/lib/python3.10/dist-packages (from rich->keras-core->keras-tuner==1.4.3) (3.0.0)\n",
            "Requirement already satisfied: pygments<3.0.0,>=2.13.0 in /usr/local/lib/python3.10/dist-packages (from rich->keras-core->keras-tuner==1.4.3) (2.16.1)\n",
            "Requirement already satisfied: mdurl~=0.1 in /usr/local/lib/python3.10/dist-packages (from markdown-it-py>=2.2.0->rich->keras-core->keras-tuner==1.4.3) (0.1.2)\n",
            "Building wheels for collected packages: keras-tuner\n",
            "  Building wheel for keras-tuner (pyproject.toml) ... \u001b[?25l\u001b[?25hdone\n",
            "  Created wheel for keras-tuner: filename=keras_tuner-1.4.3-py3-none-any.whl size=182858 sha256=c0ae1bcc9fe137911339859c9ff06150099b8e15eda8d166b753c05b00c5f1ec\n",
            "  Stored in directory: /root/.cache/pip/wheels/6a/f2/f6/4d216b7ba0b7c0374eb8c129c16da679bd15329b761cbad121\n",
            "Successfully built keras-tuner\n",
            "Installing collected packages: namex, kt-legacy, keras-core, keras-tuner\n",
            "Successfully installed keras-core-0.1.7 keras-tuner-1.4.3 kt-legacy-1.0.5 namex-0.0.7\n"
          ]
        }
      ]
    },
    {
      "cell_type": "code",
      "source": [
        "!pip install surprise\n"
      ],
      "metadata": {
        "colab": {
          "base_uri": "https://localhost:8080/"
        },
        "id": "bC35PQMkX56A",
        "outputId": "219a0672-b003-4e6f-e739-c6cc07a1cd3a"
      },
      "id": "bC35PQMkX56A",
      "execution_count": 3,
      "outputs": [
        {
          "output_type": "stream",
          "name": "stdout",
          "text": [
            "Collecting surprise\n",
            "  Downloading surprise-0.1-py2.py3-none-any.whl (1.8 kB)\n",
            "Collecting scikit-surprise (from surprise)\n",
            "  Downloading scikit-surprise-1.1.3.tar.gz (771 kB)\n",
            "\u001b[2K     \u001b[90m━━━━━━━━━━━━━━━━━━━━━━━━━━━━━━━━━━━━━━\u001b[0m \u001b[32m772.0/772.0 kB\u001b[0m \u001b[31m11.7 MB/s\u001b[0m eta \u001b[36m0:00:00\u001b[0m\n",
            "\u001b[?25h  Preparing metadata (setup.py) ... \u001b[?25l\u001b[?25hdone\n",
            "Requirement already satisfied: joblib>=1.0.0 in /usr/local/lib/python3.10/dist-packages (from scikit-surprise->surprise) (1.3.2)\n",
            "Requirement already satisfied: numpy>=1.17.3 in /usr/local/lib/python3.10/dist-packages (from scikit-surprise->surprise) (1.23.5)\n",
            "Requirement already satisfied: scipy>=1.3.2 in /usr/local/lib/python3.10/dist-packages (from scikit-surprise->surprise) (1.11.2)\n",
            "Building wheels for collected packages: scikit-surprise\n",
            "  Building wheel for scikit-surprise (setup.py) ... \u001b[?25l\u001b[?25hdone\n",
            "  Created wheel for scikit-surprise: filename=scikit_surprise-1.1.3-cp310-cp310-linux_x86_64.whl size=3156233 sha256=ced873509505cf98c1849e439b3c79b7b163b297dedbbfd3a50ef15098f97ee0\n",
            "  Stored in directory: /root/.cache/pip/wheels/a5/ca/a8/4e28def53797fdc4363ca4af740db15a9c2f1595ebc51fb445\n",
            "Successfully built scikit-surprise\n",
            "Installing collected packages: scikit-surprise, surprise\n",
            "Successfully installed scikit-surprise-1.1.3 surprise-0.1\n"
          ]
        }
      ]
    },
    {
      "cell_type": "markdown",
      "source": [
        "# Recommendation System for E-Commerce\n",
        "\n",
        "This project creates a popularity-based recommendation system for new customers, a collaborative filtering system for returning customers based on their purchase history and other user ratings, a foundational system for businesses newly setting up their e-commerce platform, and trains a base recommendation model. The project aims to enhance the shopping experience, facilitating increased customer acquisition and retention by offering targeted recommendations throughout the customer's journey."
      ],
      "metadata": {
        "id": "NNvs8V111BCo"
      },
      "id": "NNvs8V111BCo"
    },
    {
      "cell_type": "code",
      "execution_count": 24,
      "id": "882d53c3",
      "metadata": {
        "id": "882d53c3"
      },
      "outputs": [],
      "source": [
        "# Necessary Libraries\n",
        "import numpy as np\n",
        "import pandas as pd\n",
        "import matplotlib.pyplot as plt\n",
        "from sklearn.decomposition import TruncatedSVD\n",
        "from sklearn.feature_extraction.text import TfidfVectorizer\n",
        "from sklearn.cluster import KMeans\n",
        "from sklearn.metrics.pairwise import cosine_similarity\n",
        "import seaborn as sns\n",
        "\n",
        "plt.style.use(\"ggplot\")\n",
        "\n",
        "#for embeddings\n",
        "import tensorflow as tf\n",
        "from tensorflow.keras import Model\n",
        "from tensorflow.keras.layers import Embedding, Dot, Flatten, Dense, Input, concatenate\n",
        "from tensorflow.keras.optimizers import Adam\n",
        "from kerastuner import HyperModel, RandomSearch\n",
        "import shutil\n",
        "\n",
        "# for collaborative filtering\n",
        "from surprise import Dataset, Reader, KNNBasic, accuracy\n",
        "from surprise.model_selection import train_test_split\n"
      ]
    },
    {
      "cell_type": "markdown",
      "source": [
        "## Recommendation System\n",
        "\n",
        "Below we create a recommendation system for new customers that uses product popularity to drive recommendations."
      ],
      "metadata": {
        "id": "3eRuKTOEDi7-"
      },
      "id": "3eRuKTOEDi7-"
    },
    {
      "cell_type": "code",
      "execution_count": 5,
      "id": "130d7224",
      "metadata": {
        "id": "130d7224"
      },
      "outputs": [],
      "source": [
        "# Popularity-based Recommendation System for New Customers\n",
        "\n",
        "def popular_products_recommendation(data, top_n=10):\n",
        "\n",
        "    # Counting the number of ratings each product has received\n",
        "    popular_products = data.groupby('ProductId')['Rating'].count()\n",
        "\n",
        "    # Sorting products by the number of ratings\n",
        "    most_popular = popular_products.sort_values(ascending=False)\n",
        "\n",
        "    # Return top_n products\n",
        "    return most_popular.head(top_n)\n"
      ]
    },
    {
      "cell_type": "markdown",
      "id": "12152bcb",
      "metadata": {
        "id": "12152bcb"
      },
      "source": [
        "The code above returns the top n products based on their popularity (number of ratings)."
      ]
    },
    {
      "cell_type": "code",
      "execution_count": 6,
      "id": "957bb745",
      "metadata": {
        "id": "957bb745"
      },
      "outputs": [],
      "source": [
        "# Loading the dataset\n",
        "amazon_ratings = pd.read_csv('./ratings_Beauty.csv').dropna()"
      ]
    },
    {
      "cell_type": "code",
      "execution_count": 7,
      "id": "81f1e54a",
      "metadata": {
        "id": "81f1e54a"
      },
      "outputs": [],
      "source": [
        "# Getting the most popular products\n",
        "top_products = popular_products_recommendation(amazon_ratings, 30)"
      ]
    },
    {
      "cell_type": "code",
      "execution_count": 8,
      "id": "1e250def",
      "metadata": {
        "colab": {
          "base_uri": "https://localhost:8080/",
          "height": 562
        },
        "id": "1e250def",
        "outputId": "3e933e58-0cb2-4caa-f43c-d1d75fea1093"
      },
      "outputs": [
        {
          "output_type": "display_data",
          "data": {
            "text/plain": [
              "<Figure size 640x480 with 1 Axes>"
            ],
            "image/png": "[encoded data removed]"
          },
          "metadata": {}
        }
      ],
      "source": [
        "# Displaying the top products\n",
        "top_products.plot(kind=\"bar\", title=\"Top 30 Popular Products\")\n",
        "plt.show()"
      ]
    },
    {
      "cell_type": "markdown",
      "source": [
        "Above we see the 30 most popular products, displayed against their rating.  Below we se the general distribution of ratings for all products."
      ],
      "metadata": {
        "id": "z6YMQkyrEGMw"
      },
      "id": "z6YMQkyrEGMw"
    },
    {
      "cell_type": "code",
      "source": [
        "# Rating Distribution Pie Chart\n",
        "rating_counts = amazon_ratings['Rating'].value_counts()\n",
        "plt.pie(rating_counts, labels=rating_counts.index, autopct='%1.1f%%')\n",
        "plt.title('Distribution of Product Ratings')\n",
        "plt.show()"
      ],
      "metadata": {
        "colab": {
          "base_uri": "https://localhost:8080/",
          "height": 429
        },
        "id": "NpNJ5OxNMTTG",
        "outputId": "94ab2bc4-77a5-42c8-8720-61edf31f817e"
      },
      "id": "NpNJ5OxNMTTG",
      "execution_count": 9,
      "outputs": [
        {
          "output_type": "display_data",
          "data": {
            "text/plain": [
              "<Figure size 640x480 with 1 Axes>"
            ],
            "image/png": "[encoded data removed]"
          },
          "metadata": {}
        }
      ]
    },
    {
      "cell_type": "markdown",
      "id": "da87b720",
      "metadata": {
        "id": "da87b720"
      },
      "source": [
        "## Collaborative Filtering Recommendation System\n",
        "\n",
        "Below we create a recommendation system that uses collaborative filtering to make predictive suggestions for a particular user based on patterns from user data.\n"
      ]
    },
    {
      "cell_type": "code",
      "execution_count": 10,
      "id": "5b314bcd",
      "metadata": {
        "id": "5b314bcd"
      },
      "outputs": [],
      "source": [
        "# Collaborative Filtering Recommendation System\n",
        "\n",
        "def collaborative_filtering_recommendation(data, product_id, top_n=10):\n",
        "\n",
        "    # Creating a utility matrix\n",
        "    ratings_utility_matrix = data.pivot_table(values='Rating', index='UserId', columns='ProductId', fill_value=0)\n",
        "\n",
        "    # Transposing the matrix\n",
        "    X = ratings_utility_matrix.T\n",
        "\n",
        "    # Decomposing the matrix using SVD\n",
        "    SVD = TruncatedSVD(n_components=10)\n",
        "    decomposed_matrix = SVD.fit_transform(X)\n",
        "\n",
        "    # Creating a correlation matrix\n",
        "    correlation_matrix = np.corrcoef(decomposed_matrix)\n",
        "\n",
        "    # Getting the index of the product_id\n",
        "    product_index = list(X.index).index(product_id)\n",
        "\n",
        "    # Getting the correlation values with other products\n",
        "    correlation_with_product = correlation_matrix[product_index]\n",
        "\n",
        "    # Recommending top-n correlated products\n",
        "    recommended_products = list(X.index[correlation_with_product > 0.90])\n",
        "\n",
        "    # Remove the given product_id from the list\n",
        "    recommended_products.remove(product_id)\n",
        "\n",
        "    return recommended_products[:top_n]"
      ]
    },
    {
      "cell_type": "code",
      "execution_count": 11,
      "id": "72be5de8",
      "metadata": {
        "colab": {
          "base_uri": "https://localhost:8080/"
        },
        "id": "72be5de8",
        "outputId": "9c5d18ed-8bff-4f39-e69a-de0381428d7e"
      },
      "outputs": [
        {
          "output_type": "stream",
          "name": "stdout",
          "text": [
            "['7800558258']\n"
          ]
        }
      ],
      "source": [
        "# Get top 10 product recommendations for product '6117036094'\n",
        "product_recommendations = collaborative_filtering_recommendation(amazon_ratings.head(10000), '6117036094')\n",
        "print(product_recommendations)"
      ]
    },
    {
      "cell_type": "code",
      "execution_count": 13,
      "id": "9256d79e",
      "metadata": {
        "id": "9256d79e"
      },
      "outputs": [],
      "source": [
        "# Load product description dataset\n",
        "product_descriptions = pd.read_csv('./product_descriptions.csv')"
      ]
    },
    {
      "cell_type": "code",
      "execution_count": 14,
      "id": "45976762",
      "metadata": {
        "colab": {
          "base_uri": "https://localhost:8080/",
          "height": 74
        },
        "id": "45976762",
        "outputId": "dcb57017-3798-4270-c2e2-fc98263c28de"
      },
      "outputs": [
        {
          "output_type": "execute_result",
          "data": {
            "text/plain": [
              "KMeans(max_iter=100, n_clusters=10, n_init=1)"
            ],
            "text/html": [
              "<style>#sk-container-id-1 {color: black;background-color: white;}#sk-container-id-1 pre{padding: 0;}#sk-container-id-1 div.sk-toggleable {background-color: white;}#sk-container-id-1 label.sk-toggleable__label {cursor: pointer;display: block;width: 100%;margin-bottom: 0;padding: 0.3em;box-sizing: border-box;text-align: center;}#sk-container-id-1 label.sk-toggleable__label-arrow:before {content: \"▸\";float: left;margin-right: 0.25em;color: #696969;}#sk-container-id-1 label.sk-toggleable__label-arrow:hover:before {color: black;}#sk-container-id-1 div.sk-estimator:hover label.sk-toggleable__label-arrow:before {color: black;}#sk-container-id-1 div.sk-toggleable__content {max-height: 0;max-width: 0;overflow: hidden;text-align: left;background-color: #f0f8ff;}#sk-container-id-1 div.sk-toggleable__content pre {margin: 0.2em;color: black;border-radius: 0.25em;background-color: #f0f8ff;}#sk-container-id-1 input.sk-toggleable__control:checked~div.sk-toggleable__content {max-height: 200px;max-width: 100%;overflow: auto;}#sk-container-id-1 input.sk-toggleable__control:checked~label.sk-toggleable__label-arrow:before {content: \"▾\";}#sk-container-id-1 div.sk-estimator input.sk-toggleable__control:checked~label.sk-toggleable__label {background-color: #d4ebff;}#sk-container-id-1 div.sk-label input.sk-toggleable__control:checked~label.sk-toggleable__label {background-color: #d4ebff;}#sk-container-id-1 input.sk-hidden--visually {border: 0;clip: rect(1px 1px 1px 1px);clip: rect(1px, 1px, 1px, 1px);height: 1px;margin: -1px;overflow: hidden;padding: 0;position: absolute;width: 1px;}#sk-container-id-1 div.sk-estimator {font-family: monospace;background-color: #f0f8ff;border: 1px dotted black;border-radius: 0.25em;box-sizing: border-box;margin-bottom: 0.5em;}#sk-container-id-1 div.sk-estimator:hover {background-color: #d4ebff;}#sk-container-id-1 div.sk-parallel-item::after {content: \"\";width: 100%;border-bottom: 1px solid gray;flex-grow: 1;}#sk-container-id-1 div.sk-label:hover label.sk-toggleable__label {background-color: #d4ebff;}#sk-container-id-1 div.sk-serial::before {content: \"\";position: absolute;border-left: 1px solid gray;box-sizing: border-box;top: 0;bottom: 0;left: 50%;z-index: 0;}#sk-container-id-1 div.sk-serial {display: flex;flex-direction: column;align-items: center;background-color: white;padding-right: 0.2em;padding-left: 0.2em;position: relative;}#sk-container-id-1 div.sk-item {position: relative;z-index: 1;}#sk-container-id-1 div.sk-parallel {display: flex;align-items: stretch;justify-content: center;background-color: white;position: relative;}#sk-container-id-1 div.sk-item::before, #sk-container-id-1 div.sk-parallel-item::before {content: \"\";position: absolute;border-left: 1px solid gray;box-sizing: border-box;top: 0;bottom: 0;left: 50%;z-index: -1;}#sk-container-id-1 div.sk-parallel-item {display: flex;flex-direction: column;z-index: 1;position: relative;background-color: white;}#sk-container-id-1 div.sk-parallel-item:first-child::after {align-self: flex-end;width: 50%;}#sk-container-id-1 div.sk-parallel-item:last-child::after {align-self: flex-start;width: 50%;}#sk-container-id-1 div.sk-parallel-item:only-child::after {width: 0;}#sk-container-id-1 div.sk-dashed-wrapped {border: 1px dashed gray;margin: 0 0.4em 0.5em 0.4em;box-sizing: border-box;padding-bottom: 0.4em;background-color: white;}#sk-container-id-1 div.sk-label label {font-family: monospace;font-weight: bold;display: inline-block;line-height: 1.2em;}#sk-container-id-1 div.sk-label-container {text-align: center;}#sk-container-id-1 div.sk-container {/* jupyter's `normalize.less` sets `[hidden] { display: none; }` but bootstrap.min.css set `[hidden] { display: none !important; }` so we also need the `!important` here to be able to override the default hidden behavior on the sphinx rendered scikit-learn.org. See: https://github.com/scikit-learn/scikit-learn/issues/21755 */display: inline-block !important;position: relative;}#sk-container-id-1 div.sk-text-repr-fallback {display: none;}</style><div id=\"sk-container-id-1\" class=\"sk-top-container\"><div class=\"sk-text-repr-fallback\"><pre>KMeans(max_iter=100, n_clusters=10, n_init=1)</pre><b>In a Jupyter environment, please rerun this cell to show the HTML representation or trust the notebook. <br />On GitHub, the HTML representation is unable to render, please try loading this page with nbviewer.org.</b></div><div class=\"sk-container\" hidden><div class=\"sk-item\"><div class=\"sk-estimator sk-toggleable\"><input class=\"sk-toggleable__control sk-hidden--visually\" id=\"sk-estimator-id-1\" type=\"checkbox\" checked><label for=\"sk-estimator-id-1\" class=\"sk-toggleable__label sk-toggleable__label-arrow\">KMeans</label><div class=\"sk-toggleable__content\"><pre>KMeans(max_iter=100, n_clusters=10, n_init=1)</pre></div></div></div></div></div>"
            ]
          },
          "metadata": {},
          "execution_count": 14
        }
      ],
      "source": [
        "# Drop missing values\n",
        "product_descriptions = product_descriptions.dropna()\n",
        "\n",
        "# Taking a subset of the data for demonstration\n",
        "product_subset = product_descriptions.head(500)\n",
        "\n",
        "# Feature extraction: Convert text descriptions into numerical data\n",
        "vectorizer = TfidfVectorizer(stop_words='english')\n",
        "X = vectorizer.fit_transform(product_subset[\"product_description\"])\n",
        "\n",
        "# Apply K-Means clustering on the processed data\n",
        "num_clusters = 10\n",
        "kmeans_model = KMeans(n_clusters=num_clusters, init='k-means++', max_iter=100, n_init=1)\n",
        "kmeans_model.fit(X)\n"
      ]
    },
    {
      "cell_type": "code",
      "execution_count": 15,
      "id": "5d8465ba",
      "metadata": {
        "colab": {
          "base_uri": "https://localhost:8080/",
          "height": 998
        },
        "id": "5d8465ba",
        "outputId": "db43f538-fdf8-47aa-8bb0-19871a8b2694"
      },
      "outputs": [
        {
          "output_type": "display_data",
          "data": {
            "text/plain": [
              "<Figure size 640x480 with 1 Axes>"
            ],
            "image/png": "[encoded data removed]"
          },
          "metadata": {}
        },
        {
          "output_type": "stream",
          "name": "stdout",
          "text": [
            "Cluster 0:\n",
            "water, garage, use, easy, roof, epoxy, sq, seal, shower, proposition, \n",
            "\n",
            "Cluster 1:\n",
            "rug, design, clean, slightly, contemporary, csa, easy, look, vary, stakes, \n",
            "\n",
            "Cluster 2:\n",
            "cabinet, pull, light, nickel, center, design, kit, black, includes, 32, \n",
            "\n",
            "Cluster 3:\n",
            "storage, lbs, steel, shelves, easy, duty, capacity, shelf, adjustable, durable, \n",
            "\n",
            "Cluster 4:\n",
            "wood, door, flush, natural, toilet, bamboo, product, home, water, ft, \n",
            "\n",
            "Cluster 5:\n",
            "base, used, painted, post, primed, moulding, 65, proposition, nbsp, residents, \n",
            "\n",
            "Cluster 6:\n",
            "metal, power, volt, 20, cutting, tool, year, speed, handle, light, \n",
            "\n",
            "Cluster 7:\n",
            "paint, roller, easy, ft, water, brush, need, handle, stake, azek, \n",
            "\n",
            "Cluster 8:\n",
            "wall, piece, color, tile, use, home, finish, design, indoor, outdoor, \n",
            "\n",
            "Cluster 9:\n",
            "air, power, cooking, cooling, oven, cycle, control, heat, water, ft, \n",
            "\n"
          ]
        }
      ],
      "source": [
        "# Visualizing clusters\n",
        "y_kmeans = kmeans_model.predict(X)\n",
        "plt.plot(y_kmeans, \".\")\n",
        "plt.title('Product Clusters')\n",
        "plt.xlabel('Products')\n",
        "plt.ylabel('Cluster ID')\n",
        "plt.show()\n",
        "\n",
        "# Display top terms per cluster\n",
        "def print_cluster_terms(model, vectorizer, n_words=10):\n",
        "    order_centroids = model.cluster_centers_.argsort()[:, ::-1]\n",
        "    terms = vectorizer.get_feature_names_out()\n",
        "    for i in range(num_clusters):\n",
        "        print(f\"Cluster {i}:\")\n",
        "        for ind in order_centroids[i, :n_words]:\n",
        "            print(terms[ind], end=', ')\n",
        "        print(\"\\n\")\n",
        "\n",
        "print_cluster_terms(kmeans_model, vectorizer)"
      ]
    },
    {
      "cell_type": "code",
      "execution_count": 16,
      "id": "dbb858ca",
      "metadata": {
        "id": "dbb858ca"
      },
      "outputs": [],
      "source": [
        "# Print the top terms per cluster\n",
        "def print_cluster_terms(cluster_num, vectorizer, model, n_terms=10):\n",
        "    order_centroids = model.cluster_centers_.argsort()[:, ::-1]\n",
        "    terms = vectorizer.get_feature_names_out()\n",
        "    print(\"Cluster %d:\" % cluster_num)\n",
        "    for ind in order_centroids[cluster_num, :n_terms]:\n",
        "        print(' %s' % terms[ind])\n",
        "\n",
        "# Recommendation function based on key search words\n",
        "def recommend_products(keyword, model, vectorizer):\n",
        "    Y = vectorizer.transform([keyword])\n",
        "    cluster_prediction = model.predict(Y)[0]\n",
        "    print_cluster_terms(cluster_prediction, vectorizer, model)\n"
      ]
    },
    {
      "cell_type": "code",
      "execution_count": 17,
      "id": "238c9f10",
      "metadata": {
        "colab": {
          "base_uri": "https://localhost:8080/"
        },
        "id": "238c9f10",
        "outputId": "7aaa4149-8574-4a98-acf4-8321ddb66750"
      },
      "outputs": [
        {
          "output_type": "stream",
          "name": "stdout",
          "text": [
            "\n",
            "Recommendation for 'cutting tool':\n",
            "Cluster 6:\n",
            " metal\n",
            " power\n",
            " volt\n",
            " 20\n",
            " cutting\n",
            " tool\n",
            " year\n",
            " speed\n",
            " handle\n",
            " light\n",
            "\n",
            "Recommendation for 'spray paint':\n",
            "Cluster 7:\n",
            " paint\n",
            " roller\n",
            " easy\n",
            " ft\n",
            " water\n",
            " brush\n",
            " need\n",
            " handle\n",
            " stake\n",
            " azek\n",
            "\n",
            "Recommendation for 'steel drill':\n",
            "Cluster 6:\n",
            " metal\n",
            " power\n",
            " volt\n",
            " 20\n",
            " cutting\n",
            " tool\n",
            " year\n",
            " speed\n",
            " handle\n",
            " light\n",
            "\n",
            "Recommendation for 'water':\n",
            "Cluster 0:\n",
            " water\n",
            " garage\n",
            " use\n",
            " easy\n",
            " roof\n",
            " epoxy\n",
            " sq\n",
            " seal\n",
            " shower\n",
            " proposition\n"
          ]
        }
      ],
      "source": [
        "# Examples\n",
        "print(\"\\nRecommendation for 'cutting tool':\")\n",
        "recommend_products(\"cutting tool\", kmeans_model, vectorizer)\n",
        "\n",
        "print(\"\\nRecommendation for 'spray paint':\")\n",
        "recommend_products(\"spray paint\", kmeans_model, vectorizer)\n",
        "\n",
        "print(\"\\nRecommendation for 'steel drill':\")\n",
        "recommend_products(\"steel drill\", kmeans_model, vectorizer)\n",
        "\n",
        "print(\"\\nRecommendation for 'water':\")\n",
        "recommend_products(\"water\", kmeans_model, vectorizer)"
      ]
    },
    {
      "cell_type": "markdown",
      "id": "27dc4cee",
      "metadata": {
        "id": "27dc4cee"
      },
      "source": [
        "## Embeddings\n",
        "\n",
        "In the context of recommendation systems, embedding layers can capture the latent factors associated with users and products, which might influence the ratings. For example, some latent factors for products could be their general popularity or quality. These latent factors are captured by training embeddings within the neural network.\n",
        "\n",
        " The model aims to predict these ratings as accurately as possible. This can be used in a recommendation system to suggest products to users based on their past behavior and the behavior of similar users.\n"
      ]
    },
    {
      "cell_type": "code",
      "execution_count": 18,
      "id": "82068822",
      "metadata": {
        "id": "82068822"
      },
      "outputs": [],
      "source": [
        "# Embeddings\n",
        "\n",
        "# Assigning unique numeric IDs to users and products\n",
        "user_ids = amazon_ratings['UserId'].astype('category').cat.codes.values\n",
        "product_ids = amazon_ratings['ProductId'].astype('category').cat.codes.values\n",
        "\n",
        "# Number of unique users and products\n",
        "n_users = amazon_ratings['UserId'].nunique()\n",
        "n_products = amazon_ratings['ProductId'].nunique()"
      ]
    },
    {
      "cell_type": "code",
      "execution_count": 19,
      "id": "38357011",
      "metadata": {
        "id": "38357011"
      },
      "outputs": [],
      "source": [
        "# Embedding dimensions\n",
        "embedding_size = 50\n",
        "\n",
        "# Inputs\n",
        "user_input = Input(shape=(1,))\n",
        "product_input = Input(shape=(1,))\n",
        "\n",
        "# User and Product Embeddings\n",
        "user_embedding = Embedding(output_dim=embedding_size, input_dim=n_users)(user_input)\n",
        "product_embedding = Embedding(output_dim=embedding_size, input_dim=n_products)(product_input)\n",
        "\n",
        "# Merge embeddings\n",
        "merged = concatenate([user_embedding, product_embedding])\n",
        "merged = Flatten()(merged)\n",
        "\n",
        "# Add Dense layers\n",
        "dense = Dense(128, activation='relu')(merged)\n",
        "dense = Dense(64, activation='relu')(dense)\n",
        "output = Dense(1)(dense)\n",
        "\n",
        "# Model\n",
        "model = Model(inputs=[user_input, product_input], outputs=output)\n",
        "model.compile(optimizer='adam', loss='mse')\n"
      ]
    },
    {
      "cell_type": "code",
      "execution_count": 20,
      "id": "89c80894",
      "metadata": {
        "colab": {
          "base_uri": "https://localhost:8080/"
        },
        "id": "89c80894",
        "outputId": "bb00649e-cbb8-4da3-e726-8ac7af122dfe"
      },
      "outputs": [
        {
          "output_type": "stream",
          "name": "stdout",
          "text": [
            "Epoch 1/10\n",
            "1448/1448 [==============================] - 22s 11ms/step - loss: 1.9871 - val_loss: 1.6914\n",
            "Epoch 2/10\n",
            "1448/1448 [==============================] - 9s 6ms/step - loss: 0.8403 - val_loss: 2.1278\n",
            "Epoch 3/10\n",
            "1448/1448 [==============================] - 8s 6ms/step - loss: 0.4784 - val_loss: 2.4758\n",
            "Epoch 4/10\n",
            "1448/1448 [==============================] - 9s 6ms/step - loss: 0.2881 - val_loss: 2.6051\n",
            "Epoch 5/10\n",
            "1448/1448 [==============================] - 8s 6ms/step - loss: 0.1665 - val_loss: 3.0159\n",
            "Epoch 6/10\n",
            "1448/1448 [==============================] - 9s 6ms/step - loss: 0.1170 - val_loss: 2.8095\n",
            "Epoch 7/10\n",
            "1448/1448 [==============================] - 8s 6ms/step - loss: 0.0902 - val_loss: 3.1538\n",
            "Epoch 8/10\n",
            "1448/1448 [==============================] - 9s 6ms/step - loss: 0.0764 - val_loss: 2.9399\n",
            "Epoch 9/10\n",
            "1448/1448 [==============================] - 8s 6ms/step - loss: 0.0665 - val_loss: 3.0219\n",
            "Epoch 10/10\n",
            "1448/1448 [==============================] - 9s 6ms/step - loss: 0.0573 - val_loss: 2.9511\n"
          ]
        },
        {
          "output_type": "execute_result",
          "data": {
            "text/plain": [
              "<keras.src.callbacks.History at 0x7b6d47b29ae0>"
            ]
          },
          "metadata": {},
          "execution_count": 20
        }
      ],
      "source": [
        "# Train the model\n",
        "model.fit([user_ids, product_ids], amazon_ratings['Rating'], epochs=10, batch_size=512, validation_split=0.2)"
      ]
    },
    {
      "cell_type": "code",
      "source": [
        "# Plot training history\n",
        "def plot_training_history(history):\n",
        "    plt.plot(history.history['loss'], label='train_loss')\n",
        "    plt.plot(history.history['val_loss'], label='val_loss')\n",
        "    plt.title('Training Loss across epochs')\n",
        "    plt.xlabel('Epochs')\n",
        "    plt.ylabel('Loss')\n",
        "    plt.legend()\n",
        "    plt.show()\n",
        "\n",
        "history = model.fit([user_ids, product_ids], amazon_ratings['Rating'], epochs=10, batch_size=512, validation_split=0.2)\n",
        "plot_training_history(history)"
      ],
      "metadata": {
        "colab": {
          "base_uri": "https://localhost:8080/",
          "height": 824
        },
        "id": "qBJRAJLwRkV3",
        "outputId": "795010c6-a74d-41b1-b854-fbca80b5615a"
      },
      "id": "qBJRAJLwRkV3",
      "execution_count": 21,
      "outputs": [
        {
          "output_type": "stream",
          "name": "stdout",
          "text": [
            "Epoch 1/10\n",
            "1448/1448 [==============================] - 8s 6ms/step - loss: 0.0503 - val_loss: 2.9132\n",
            "Epoch 2/10\n",
            "1448/1448 [==============================] - 8s 6ms/step - loss: 0.0439 - val_loss: 2.8226\n",
            "Epoch 3/10\n",
            "1448/1448 [==============================] - 8s 6ms/step - loss: 0.0386 - val_loss: 2.7976\n",
            "Epoch 4/10\n",
            "1448/1448 [==============================] - 8s 6ms/step - loss: 0.0340 - val_loss: 2.6258\n",
            "Epoch 5/10\n",
            "1448/1448 [==============================] - 8s 6ms/step - loss: 0.0306 - val_loss: 2.5766\n",
            "Epoch 6/10\n",
            "1448/1448 [==============================] - 8s 6ms/step - loss: 0.0269 - val_loss: 2.4450\n",
            "Epoch 7/10\n",
            "1448/1448 [==============================] - 8s 6ms/step - loss: 0.0241 - val_loss: 2.4065\n",
            "Epoch 8/10\n",
            "1448/1448 [==============================] - 8s 6ms/step - loss: 0.0219 - val_loss: 2.4415\n",
            "Epoch 9/10\n",
            "1448/1448 [==============================] - 8s 6ms/step - loss: 0.0199 - val_loss: 2.3936\n",
            "Epoch 10/10\n",
            "1448/1448 [==============================] - 8s 6ms/step - loss: 0.0183 - val_loss: 2.3723\n"
          ]
        },
        {
          "output_type": "display_data",
          "data": {
            "text/plain": [
              "<Figure size 640x480 with 1 Axes>"
            ],
            "image/png": "[encoded data removed]"
          },
          "metadata": {}
        }
      ]
    },
    {
      "cell_type": "code",
      "execution_count": 22,
      "id": "614b3fdc",
      "metadata": {
        "id": "614b3fdc"
      },
      "outputs": [],
      "source": [
        "class RecommenderHyperModel(HyperModel):\n",
        "\n",
        "    def __init__(self, n_users, n_products):\n",
        "        self.n_users = n_users\n",
        "        self.n_products = n_products\n",
        "\n",
        "    def build(self, hp):\n",
        "        embedding_size = hp.Int('embedding_size', min_value=10, max_value=200, step=10)\n",
        "\n",
        "        user_input = Input(shape=(1,))\n",
        "        product_input = Input(shape=(1,))\n",
        "\n",
        "        user_embedding = Embedding(output_dim=embedding_size, input_dim=self.n_users)(user_input)\n",
        "        product_embedding = Embedding(output_dim=embedding_size, input_dim=self.n_products)(product_input)\n",
        "\n",
        "        merged = concatenate([user_embedding, product_embedding])\n",
        "        merged = Flatten()(merged)\n",
        "\n",
        "        # Tuning the number of neurons in the dense layers\n",
        "        for i in range(hp.Int('num_layers', 1, 4)):\n",
        "            merged = Dense(units=hp.Int('units_' + str(i), min_value=32, max_value=256, step=32),\n",
        "                           activation='relu')(merged)\n",
        "\n",
        "        output = Dense(1)(merged)\n",
        "        model = Model(inputs=[user_input, product_input], outputs=output)\n",
        "\n",
        "        # Tuning the learning rate\n",
        "        learning_rate = hp.Choice('learning_rate', [1e-3, 5e-4, 1e-4, 5e-5])\n",
        "        model.compile(optimizer=tf.keras.optimizers.Adam(learning_rate=learning_rate), loss='mse')\n",
        "\n",
        "        return model\n",
        "\n",
        "# Initialize the hypermodel\n",
        "hypermodel = RecommenderHyperModel(n_users, n_products)\n"
      ]
    },
    {
      "cell_type": "code",
      "execution_count": 23,
      "id": "616abe14",
      "metadata": {
        "colab": {
          "base_uri": "https://localhost:8080/"
        },
        "id": "616abe14",
        "outputId": "6b4a18ae-3308-400e-8a0d-5af4e3846814"
      },
      "outputs": [
        {
          "output_type": "stream",
          "name": "stdout",
          "text": [
            "Trial 10 Complete [00h 01m 33s]\n",
            "val_loss: 1.7093368172645569\n",
            "\n",
            "Best val_loss So Far: 1.7012302875518799\n",
            "Total elapsed time: 00h 23m 23s\n"
          ]
        }
      ],
      "source": [
        "# Random search\n",
        "tuner = RandomSearch(\n",
        "    hypermodel,\n",
        "    objective='val_loss',\n",
        "    max_trials=10,\n",
        "    executions_per_trial=2,\n",
        "    directory='random_search',\n",
        "    project_name='recommender'\n",
        ")\n",
        "\n",
        "tuner.search_space_summary()\n",
        "\n",
        "# Start the search\n",
        "tuner.search([user_ids, product_ids],\n",
        "             amazon_ratings['Rating'],\n",
        "             epochs=5,\n",
        "             validation_split=0.2,\n",
        "             batch_size=512)\n"
      ]
    },
    {
      "cell_type": "code",
      "execution_count": 25,
      "id": "022ed5e1",
      "metadata": {
        "colab": {
          "base_uri": "https://localhost:8080/"
        },
        "id": "022ed5e1",
        "outputId": "82f3ca7b-635f-41a3-a3e1-378becad9258"
      },
      "outputs": [
        {
          "output_type": "stream",
          "name": "stdout",
          "text": [
            "{'embedding_size': 30, 'num_layers': 3, 'units_0': 256, 'learning_rate': 0.001, 'units_1': 96, 'units_2': 224, 'units_3': 128}\n"
          ]
        }
      ],
      "source": [
        "shutil.rmtree('random_search')\n",
        "\n",
        "# Retrieve the best model and its performance\n",
        "best_hyperparameters = tuner.get_best_hyperparameters(num_trials=1)[0]\n",
        "\n",
        "# Print the best hyperparameters\n",
        "print(best_hyperparameters.values)"
      ]
    },
    {
      "cell_type": "code",
      "source": [
        "# Build the best model with the best hyperparameters\n",
        "best_model = tuner.hypermodel.build(best_hyperparameters)\n",
        "\n",
        "# Train the best model with validation_split\n",
        "history = best_model.fit(\n",
        "    [user_ids, product_ids],\n",
        "    amazon_ratings['Rating'],\n",
        "    epochs=10,\n",
        "    batch_size=512,\n",
        "    validation_split=0.2\n",
        ")\n",
        "\n",
        "# Extract the validation loss from the history object\n",
        "val_loss = history.history['val_loss'][-1]\n",
        "\n",
        "print(f\"Validation loss: {val_loss}\")"
      ],
      "metadata": {
        "colab": {
          "base_uri": "https://localhost:8080/"
        },
        "id": "MW6TZbkZBkhH",
        "outputId": "f80b6d71-720a-4c46-9415-569ab2b40824"
      },
      "id": "MW6TZbkZBkhH",
      "execution_count": 26,
      "outputs": [
        {
          "output_type": "stream",
          "name": "stdout",
          "text": [
            "Epoch 1/10\n",
            "1448/1448 [==============================] - 16s 9ms/step - loss: 1.8219 - val_loss: 1.7203\n",
            "Epoch 2/10\n",
            "1448/1448 [==============================] - 8s 6ms/step - loss: 0.9287 - val_loss: 2.5040\n",
            "Epoch 3/10\n",
            "1448/1448 [==============================] - 8s 5ms/step - loss: 0.4746 - val_loss: 3.3406\n",
            "Epoch 4/10\n",
            "1448/1448 [==============================] - 8s 5ms/step - loss: 0.2538 - val_loss: 3.2825\n",
            "Epoch 5/10\n",
            "1448/1448 [==============================] - 8s 6ms/step - loss: 0.1588 - val_loss: 2.9748\n",
            "Epoch 6/10\n",
            "1448/1448 [==============================] - 8s 5ms/step - loss: 0.1029 - val_loss: 3.4357\n",
            "Epoch 7/10\n",
            "1448/1448 [==============================] - 8s 6ms/step - loss: 0.0815 - val_loss: 3.0466\n",
            "Epoch 8/10\n",
            "1448/1448 [==============================] - 8s 5ms/step - loss: 0.0670 - val_loss: 3.0906\n",
            "Epoch 9/10\n",
            "1448/1448 [==============================] - 8s 5ms/step - loss: 0.0571 - val_loss: 3.1534\n",
            "Epoch 10/10\n",
            "1448/1448 [==============================] - 8s 5ms/step - loss: 0.0461 - val_loss: 2.8631\n",
            "Validation loss: 2.863105535507202\n"
          ]
        }
      ]
    },
    {
      "cell_type": "code",
      "source": [],
      "metadata": {
        "id": "lmBdeMZAfPuo"
      },
      "id": "lmBdeMZAfPuo",
      "execution_count": null,
      "outputs": []
    }
  ],
  "metadata": {
    "kernelspec": {
      "display_name": "Python 3",
      "name": "python3"
    },
    "language_info": {
      "codemirror_mode": {
        "name": "ipython",
        "version": 3
      },
      "file_extension": ".py",
      "mimetype": "text/x-python",
      "name": "python",
      "nbconvert_exporter": "python",
      "pygments_lexer": "ipython3",
      "version": "3.11.4"
    },
    "colab": {
      "provenance": [],
      "machine_shape": "hm",
      "gpuType": "V100"
    },
    "accelerator": "GPU"
  },
  "nbformat": 4,
  "nbformat_minor": 5
}